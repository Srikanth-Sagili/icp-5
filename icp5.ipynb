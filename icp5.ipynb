{
 "cells": [
  {
   "cell_type": "code",
   "execution_count": 1,
   "id": "9155d177-b0ca-4ffe-9e79-3475a53e29db",
   "metadata": {},
   "outputs": [
    {
     "name": "stdout",
     "output_type": "stream",
     "text": [
      "          RI     Na    Mg    Al     Si     K    Ca    Ba   Fe  Type\n",
      "0    1.52101  13.64  4.49  1.10  71.78  0.06  8.75  0.00  0.0     1\n",
      "1    1.51761  13.89  3.60  1.36  72.73  0.48  7.83  0.00  0.0     1\n",
      "2    1.51618  13.53  3.55  1.54  72.99  0.39  7.78  0.00  0.0     1\n",
      "3    1.51766  13.21  3.69  1.29  72.61  0.57  8.22  0.00  0.0     1\n",
      "4    1.51742  13.27  3.62  1.24  73.08  0.55  8.07  0.00  0.0     1\n",
      "..       ...    ...   ...   ...    ...   ...   ...   ...  ...   ...\n",
      "209  1.51623  14.14  0.00  2.88  72.61  0.08  9.18  1.06  0.0     7\n",
      "210  1.51685  14.92  0.00  1.99  73.06  0.00  8.40  1.59  0.0     7\n",
      "211  1.52065  14.36  0.00  2.02  73.42  0.00  8.44  1.64  0.0     7\n",
      "212  1.51651  14.38  0.00  1.94  73.61  0.00  8.48  1.57  0.0     7\n",
      "213  1.51711  14.23  0.00  2.08  73.36  0.00  8.62  1.67  0.0     7\n",
      "\n",
      "[214 rows x 10 columns]\n"
     ]
    }
   ],
   "source": [
    "import pandas as pd\n",
    "data=pd.read_csv('glass.csv')\n",
    "print(data)"
   ]
  },
  {
   "cell_type": "code",
   "execution_count": 4,
   "id": "12dd46b4-66b6-4539-97e8-fdb4d3a8e74a",
   "metadata": {},
   "outputs": [
    {
     "name": "stdout",
     "output_type": "stream",
     "text": [
      "Accuracy: 0.5581395348837209\n",
      "              precision    recall  f1-score   support\n",
      "\n",
      "           1       0.41      0.64      0.50        11\n",
      "           2       0.43      0.21      0.29        14\n",
      "           3       0.40      0.67      0.50         3\n",
      "           5       0.50      0.25      0.33         4\n",
      "           6       1.00      1.00      1.00         3\n",
      "           7       0.89      1.00      0.94         8\n",
      "\n",
      "    accuracy                           0.56        43\n",
      "   macro avg       0.60      0.63      0.59        43\n",
      "weighted avg       0.55      0.56      0.53        43\n",
      "\n"
     ]
    }
   ],
   "source": [
    "import pandas as pd\n",
    "from sklearn.model_selection import train_test_split\n",
    "from sklearn.naive_bayes import GaussianNB\n",
    "from sklearn.metrics import classification_report\n",
    "\n",
    "data = pd.read_csv('glass.csv')\n",
    "\n",
    "X = data.drop('Type', axis=1)  \n",
    "y = data['Type']  \n",
    "\n",
    "X_train, X_test, y_train, y_test = train_test_split(X, y, test_size=0.2, random_state=42)\n",
    "\n",
    "nb_classifier = GaussianNB()\n",
    "\n",
    "nb_classifier.fit(X_train, y_train)\n",
    "\n",
    "y_pred = nb_classifier.predict(X_test)\n",
    "\n",
    "accuracy = nb_classifier.score(X_test, y_test)\n",
    "print(\"Accuracy:\", accuracy)\n",
    "\n",
    "print(classification_report(y_test, y_pred))"
   ]
  },
  {
   "cell_type": "code",
   "execution_count": 5,
   "id": "edc99aca-3740-43ba-ad86-7a7e52720608",
   "metadata": {},
   "outputs": [
    {
     "name": "stdout",
     "output_type": "stream",
     "text": [
      "Accuracy: 0.7441860465116279\n",
      "              precision    recall  f1-score   support\n",
      "\n",
      "           1       0.69      0.82      0.75        11\n",
      "           2       0.67      0.71      0.69        14\n",
      "           3       0.00      0.00      0.00         3\n",
      "           5       0.80      1.00      0.89         4\n",
      "           6       1.00      0.67      0.80         3\n",
      "           7       0.88      0.88      0.88         8\n",
      "\n",
      "    accuracy                           0.74        43\n",
      "   macro avg       0.67      0.68      0.67        43\n",
      "weighted avg       0.70      0.74      0.72        43\n",
      "\n"
     ]
    }
   ],
   "source": [
    "import pandas as pd\n",
    "from sklearn.model_selection import train_test_split\n",
    "from sklearn.svm import SVC\n",
    "from sklearn.metrics import classification_report\n",
    "\n",
    "data = pd.read_csv('glass.csv')\n",
    "\n",
    "X = data.drop('Type', axis=1)  \n",
    "y = data['Type']  \n",
    "\n",
    "X_train, X_test, y_train, y_test = train_test_split(X, y, test_size=0.2, random_state=42)\n",
    "\n",
    "svm_classifier = SVC(kernel='linear')\n",
    "\n",
    "svm_classifier.fit(X_train, y_train)\n",
    "\n",
    "y_pred = svm_classifier.predict(X_test)\n",
    "\n",
    "accuracy = svm_classifier.score(X_test, y_test)\n",
    "print(\"Accuracy:\", accuracy)\n",
    "\n",
    "print(classification_report(y_test, y_pred, zero_division=0))"
   ]
  },
  {
   "cell_type": "code",
   "execution_count": 6,
   "id": "00dd4b40-7027-4d84-a760-cff3cb386065",
   "metadata": {},
   "outputs": [
    {
     "name": "stdout",
     "output_type": "stream",
     "text": [
      "Naïve Bayes Accuracy: 0.5581395348837209\n"
     ]
    }
   ],
   "source": [
    "accuracy_nb = nb_classifier.score(X_test, y_test)\n",
    "print(\"Naïve Bayes Accuracy:\", accuracy_nb)"
   ]
  },
  {
   "cell_type": "code",
   "execution_count": 7,
   "id": "d0db7ff2-a884-44d7-84d8-155f58a8d994",
   "metadata": {},
   "outputs": [
    {
     "name": "stdout",
     "output_type": "stream",
     "text": [
      "Linear SVM Accuracy: 0.7441860465116279\n"
     ]
    }
   ],
   "source": [
    "accuracy_svm = svm_classifier.score(X_test, y_test)\n",
    "print(\"Linear SVM Accuracy:\", accuracy_svm)"
   ]
  },
  {
   "cell_type": "code",
   "execution_count": null,
   "id": "93f7fb2b-6fc2-42c9-8e66-9a5c83176d92",
   "metadata": {},
   "outputs": [],
   "source": []
  },
  {
   "cell_type": "code",
   "execution_count": null,
   "id": "3cd7c46d-05b5-4618-bc1b-cb3dc321f52c",
   "metadata": {},
   "outputs": [],
   "source": []
  }
 ],
 "metadata": {
  "kernelspec": {
   "display_name": "Python 3 (ipykernel)",
   "language": "python",
   "name": "python3"
  },
  "language_info": {
   "codemirror_mode": {
    "name": "ipython",
    "version": 3
   },
   "file_extension": ".py",
   "mimetype": "text/x-python",
   "name": "python",
   "nbconvert_exporter": "python",
   "pygments_lexer": "ipython3",
   "version": "3.12.1"
  }
 },
 "nbformat": 4,
 "nbformat_minor": 5
}
